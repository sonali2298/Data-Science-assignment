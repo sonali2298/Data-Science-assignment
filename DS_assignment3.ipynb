{
  "nbformat": 4,
  "nbformat_minor": 0,
  "metadata": {
    "colab": {
      "name": "DS assignment3.ipynb",
      "provenance": [],
      "collapsed_sections": []
    },
    "kernelspec": {
      "name": "python3",
      "display_name": "Python 3"
    }
  },
  "cells": [
    {
      "cell_type": "markdown",
      "metadata": {
        "id": "ANcMApwPGnAZ"
      },
      "source": [
        "# **Question 1:**"
      ]
    },
    {
      "cell_type": "code",
      "metadata": {
        "id": "-KGuKwOboHCb",
        "outputId": "c04a8d40-2739-4bfa-92ed-ecf5a5ccdeb7",
        "colab": {
          "base_uri": "https://localhost:8080/"
        }
      },
      "source": [
        "import numpy as np\n",
        "arr = np.arange(2, 50, 3)\n",
        "print(arr)"
      ],
      "execution_count": 14,
      "outputs": [
        {
          "output_type": "stream",
          "text": [
            "[ 2  5  8 11 14 17 20 23 26 29 32 35 38 41 44 47]\n"
          ],
          "name": "stdout"
        }
      ]
    },
    {
      "cell_type": "markdown",
      "metadata": {
        "id": "1Xtyjqb-GtMj"
      },
      "source": [
        "# **Question 2:**"
      ]
    },
    {
      "cell_type": "code",
      "metadata": {
        "id": "PZnVsDXy1gca",
        "outputId": "ac92d901-d511-405c-e69f-a058a7e5ca57",
        "colab": {
          "base_uri": "https://localhost:8080/"
        }
      },
      "source": [
        "\n",
        "l1=[]\n",
        "l2=[]\n",
        "print(\"List 1\")\n",
        "\n",
        "for i in range(0,5):\n",
        "  k=int(input())\n",
        "  l1.append(k)\n",
        "print(\"List 2\")\n",
        "for i in range(0,5):\n",
        "  k=int(input())\n",
        "  l2.append(k)\n",
        "\n",
        "arr1 = np.array(l1)\n",
        "arr2 = np.array(l2)\n",
        "arr = np.concatenate((arr1, arr2))\n",
        "sorted = np.sort(arr)\n",
        "\n",
        "print(\"concated arry: \",arr)\n",
        "print(\"sorted array: \",sorted)"
      ],
      "execution_count": 15,
      "outputs": [
        {
          "output_type": "stream",
          "text": [
            "List 1\n",
            "5\n",
            "4\n",
            "3\n",
            "2\n",
            "1\n",
            "List 2\n",
            "20\n",
            "30\n",
            "40\n",
            "50\n",
            "60\n",
            "concated arry:  [ 5  4  3  2  1 20 30 40 50 60]\n",
            "sorted array:  [ 1  2  3  4  5 20 30 40 50 60]\n"
          ],
          "name": "stdout"
        }
      ]
    },
    {
      "cell_type": "markdown",
      "metadata": {
        "id": "uLEMp5xuGyvj"
      },
      "source": [
        "# **Question 3:**"
      ]
    },
    {
      "cell_type": "code",
      "metadata": {
        "id": "kA6McRj476U5",
        "outputId": "bd7125a8-b7bc-4516-99e4-5871bb9ddd2d",
        "colab": {
          "base_uri": "https://localhost:8080/"
        }
      },
      "source": [
        "arr = np.array([[1,2,3],[1,3,5]])\n",
        "print(\"Dimensions: \", arr.ndim)\n",
        "print(\"Size of array: \", arr.size)"
      ],
      "execution_count": 16,
      "outputs": [
        {
          "output_type": "stream",
          "text": [
            "Dimensions:  2\n",
            "Size of array:  6\n"
          ],
          "name": "stdout"
        }
      ]
    },
    {
      "cell_type": "markdown",
      "metadata": {
        "id": "YdXKP4s1G7vi"
      },
      "source": [
        "# **Question 4:**"
      ]
    },
    {
      "cell_type": "code",
      "metadata": {
        "id": "FANpuebR-Jyd",
        "outputId": "54a9bb4b-8be2-4209-ae04-fd1a9301d2a9",
        "colab": {
          "base_uri": "https://localhost:8080/"
        }
      },
      "source": [
        "arr = np.array([0, 1, 2, 3, 4, 5, 6, 7, 8, 9])\n",
        "arr.shape"
      ],
      "execution_count": 17,
      "outputs": [
        {
          "output_type": "execute_result",
          "data": {
            "text/plain": [
              "(10,)"
            ]
          },
          "metadata": {
            "tags": []
          },
          "execution_count": 17
        }
      ]
    },
    {
      "cell_type": "code",
      "metadata": {
        "id": "vUo-uCgCAae9",
        "outputId": "f96608c3-d226-466d-cf27-7e4a89b4c8d4",
        "colab": {
          "base_uri": "https://localhost:8080/"
        }
      },
      "source": [
        "new_arr=arr[np.newaxis, :]\n",
        "new_arr.shape"
      ],
      "execution_count": 18,
      "outputs": [
        {
          "output_type": "execute_result",
          "data": {
            "text/plain": [
              "(1, 10)"
            ]
          },
          "metadata": {
            "tags": []
          },
          "execution_count": 18
        }
      ]
    },
    {
      "cell_type": "code",
      "metadata": {
        "id": "jyp_XRCTHbpx",
        "outputId": "16c2568d-94ad-4ed1-f180-e648c3de7626",
        "colab": {
          "base_uri": "https://localhost:8080/"
        }
      },
      "source": [
        "arr = np.arange(10)\n",
        "arr.shape"
      ],
      "execution_count": 19,
      "outputs": [
        {
          "output_type": "execute_result",
          "data": {
            "text/plain": [
              "(10,)"
            ]
          },
          "metadata": {
            "tags": []
          },
          "execution_count": 19
        }
      ]
    },
    {
      "cell_type": "code",
      "metadata": {
        "id": "9rhkrYUDHMAS",
        "outputId": "ad6bad2c-2f9b-4f6b-d5e8-c1c63e6a2088",
        "colab": {
          "base_uri": "https://localhost:8080/"
        }
      },
      "source": [
        "arr = np.expand_dims(arr, axis=0)\n",
        "arr.shape"
      ],
      "execution_count": 20,
      "outputs": [
        {
          "output_type": "execute_result",
          "data": {
            "text/plain": [
              "(1, 10)"
            ]
          },
          "metadata": {
            "tags": []
          },
          "execution_count": 20
        }
      ]
    },
    {
      "cell_type": "markdown",
      "metadata": {
        "id": "T3zauWqEG_K-"
      },
      "source": [
        "# **Question 5:**"
      ]
    },
    {
      "cell_type": "code",
      "metadata": {
        "id": "7bscE2kYEX-U",
        "outputId": "34b0d7fe-68fd-4bf1-fb50-8b7df5f1581f",
        "colab": {
          "base_uri": "https://localhost:8080/"
        }
      },
      "source": [
        "arr1 = np.square([1, 2, 3, 4, 5])\n",
        "arr2 = np.square([6, 7, 8, 9, 10])\n",
        "\n",
        "print(\"Horizontal Append :\", np.hstack((arr1, arr2)))\n",
        "print(\"Vertical Append :\", np.vstack((arr1, arr2)))"
      ],
      "execution_count": 21,
      "outputs": [
        {
          "output_type": "stream",
          "text": [
            "Horizontal Append : [  1   4   9  16  25  36  49  64  81 100]\n",
            "Vertical Append : [[  1   4   9  16  25]\n",
            " [ 36  49  64  81 100]]\n"
          ],
          "name": "stdout"
        }
      ]
    },
    {
      "cell_type": "markdown",
      "metadata": {
        "id": "yW-tu37UHrZb"
      },
      "source": [
        "# **Question 6:**"
      ]
    },
    {
      "cell_type": "code",
      "metadata": {
        "id": "Nmt22AX9FTv9",
        "outputId": "b838c6b0-7f52-4c4e-ab74-0f5b1e85c1a0",
        "colab": {
          "base_uri": "https://localhost:8080/"
        }
      },
      "source": [
        "arr= np.array([1, 4, 9, 16, 25, 1, 4, 2, 3, 2, 5, 6, 5, 7, 8, 10])\n",
        "\n",
        "unique, counts = np.unique(arr, return_counts=True)\n",
        "arr = np.asarray((unique, counts))\n",
        "arr"
      ],
      "execution_count": 22,
      "outputs": [
        {
          "output_type": "execute_result",
          "data": {
            "text/plain": [
              "array([[ 1,  2,  3,  4,  5,  6,  7,  8,  9, 10, 16, 25],\n",
              "       [ 2,  2,  1,  2,  2,  1,  1,  1,  1,  1,  1,  1]])"
            ]
          },
          "metadata": {
            "tags": []
          },
          "execution_count": 22
        }
      ]
    },
    {
      "cell_type": "code",
      "metadata": {
        "id": "6eOQWvyfGetV"
      },
      "source": [
        ""
      ],
      "execution_count": 22,
      "outputs": []
    }
  ]
}