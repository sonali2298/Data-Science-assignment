{
  "nbformat": 4,
  "nbformat_minor": 0,
  "metadata": {
    "colab": {
      "name": "DS assignment1.ipynb",
      "provenance": []
    },
    "kernelspec": {
      "name": "python3",
      "display_name": "Python 3"
    }
  },
  "cells": [
    {
      "cell_type": "markdown",
      "metadata": {
        "id": "CJZSAjOzKFEz"
      },
      "source": [
        "## **Questions 1:**\n"
      ]
    },
    {
      "cell_type": "markdown",
      "metadata": {
        "id": "GcRNvy9CKgN8"
      },
      "source": [
        "## **B. RAINBOW**"
      ]
    },
    {
      "cell_type": "markdown",
      "metadata": {
        "id": "yV7TbeJGLLcm"
      },
      "source": [
        "# **Questions 2:**"
      ]
    },
    {
      "cell_type": "code",
      "metadata": {
        "id": "o-nJUz3xK0Xo",
        "outputId": "08f2eac0-fa69-4636-ecb2-3b100508bcba",
        "colab": {
          "base_uri": "https://localhost:8080/"
        }
      },
      "source": [
        "print(\"LETS UPGRADE\")"
      ],
      "execution_count": 6,
      "outputs": [
        {
          "output_type": "stream",
          "text": [
            "LETS UPGRADE\n"
          ],
          "name": "stdout"
        }
      ]
    },
    {
      "cell_type": "markdown",
      "metadata": {
        "id": "NB2SF6ynLshu"
      },
      "source": [
        "# **Questions 3:**"
      ]
    },
    {
      "cell_type": "code",
      "metadata": {
        "id": "noxo72yZK8tz",
        "outputId": "254698a3-ce17-410b-dac3-627721fa7e47",
        "colab": {
          "base_uri": "https://localhost:8080/"
        }
      },
      "source": [
        "cost_price=float(input())\n",
        "selling_price=float(input())\n",
        "\n",
        "if cost_price<selling_price:\n",
        "  print(\"profit\")\n",
        "elif cost_price>selling_price:\n",
        "  print(\"loss\")\n",
        "else:\n",
        "  print(\"Neither\")"
      ],
      "execution_count": 7,
      "outputs": [
        {
          "output_type": "stream",
          "text": [
            "20\n",
            "30\n",
            "profit\n"
          ],
          "name": "stdout"
        }
      ]
    },
    {
      "cell_type": "markdown",
      "metadata": {
        "id": "pCJGDoHCN2IW"
      },
      "source": [
        "## **Questions 4:**"
      ]
    },
    {
      "cell_type": "code",
      "metadata": {
        "id": "mIL5KoT1LETI",
        "outputId": "2c29678a-c7e2-4b6c-b6ae-9a9b7b59a56d",
        "colab": {
          "base_uri": "https://localhost:8080/"
        }
      },
      "source": [
        "print(int(input())*80)"
      ],
      "execution_count": 8,
      "outputs": [
        {
          "output_type": "stream",
          "text": [
            "50\n",
            "4000\n"
          ],
          "name": "stdout"
        }
      ]
    }
  ]
}