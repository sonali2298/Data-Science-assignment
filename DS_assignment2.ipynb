{
  "nbformat": 4,
  "nbformat_minor": 0,
  "metadata": {
    "colab": {
      "name": "DS assignment2.ipynb",
      "provenance": [],
      "collapsed_sections": []
    },
    "kernelspec": {
      "name": "python3",
      "display_name": "Python 3"
    }
  },
  "cells": [
    {
      "cell_type": "markdown",
      "metadata": {
        "id": "MCeMuV2HQhad"
      },
      "source": [
        "# **Questions 1:**"
      ]
    },
    {
      "cell_type": "code",
      "metadata": {
        "id": "QzNpMgL-Qp31",
        "outputId": "bb9bb8d3-6016-43c2-a89f-901df01c45fd",
        "colab": {
          "base_uri": "https://localhost:8080/"
        }
      },
      "source": [
        "l=[]\n",
        "i=0\n",
        "while i < 10:\n",
        "  k=int(input())\n",
        "  if k%2==0:\n",
        "      l.append(k)\n",
        "  i += 1\n",
        "\n"
      ],
      "execution_count": 1,
      "outputs": [
        {
          "output_type": "stream",
          "text": [
            "1\n",
            "2\n",
            "3\n",
            "4\n",
            "5\n",
            "6\n",
            "7\n",
            "8\n",
            "9\n",
            "12\n"
          ],
          "name": "stdout"
        }
      ]
    },
    {
      "cell_type": "code",
      "metadata": {
        "id": "NuhVzF7RSmVS",
        "outputId": "4aa3ae04-f720-4ce9-8aac-73633ff9fdb2",
        "colab": {
          "base_uri": "https://localhost:8080/"
        }
      },
      "source": [
        "l"
      ],
      "execution_count": 2,
      "outputs": [
        {
          "output_type": "execute_result",
          "data": {
            "text/plain": [
              "[2, 4, 6, 8, 12]"
            ]
          },
          "metadata": {
            "tags": []
          },
          "execution_count": 2
        }
      ]
    },
    {
      "cell_type": "markdown",
      "metadata": {
        "id": "wh1JBfAyXvF0"
      },
      "source": [
        "# **Questions 2:**"
      ]
    },
    {
      "cell_type": "code",
      "metadata": {
        "id": "o7lyVCOIUn-8",
        "outputId": "f8d59e3b-2ff6-4228-8584-27d401c3c263",
        "colab": {
          "base_uri": "https://localhost:8080/"
        }
      },
      "source": [
        "print(\"Squares of 1 to 10: \")\n",
        "l=[x*x for x in range(1,11)]\n",
        "l"
      ],
      "execution_count": 3,
      "outputs": [
        {
          "output_type": "stream",
          "text": [
            "Squares of 1 to 10: \n"
          ],
          "name": "stdout"
        },
        {
          "output_type": "execute_result",
          "data": {
            "text/plain": [
              "[1, 4, 9, 16, 25, 36, 49, 64, 81, 100]"
            ]
          },
          "metadata": {
            "tags": []
          },
          "execution_count": 3
        }
      ]
    },
    {
      "cell_type": "markdown",
      "metadata": {
        "id": "CcsMOgwoYjN1"
      },
      "source": [
        "# **Questions 3:**"
      ]
    },
    {
      "cell_type": "code",
      "metadata": {
        "id": "1YPQVl6pYnFE",
        "outputId": "e9d49f2f-23e1-4fcb-ab0d-e602b2e4c85c",
        "colab": {
          "base_uri": "https://localhost:8080/"
        }
      },
      "source": [
        "n=int(input())\n",
        "d={x:x*x for x in range(1,n+1)}\n",
        "print(d)"
      ],
      "execution_count": 4,
      "outputs": [
        {
          "output_type": "stream",
          "text": [
            "4\n",
            "{1: 1, 2: 4, 3: 9, 4: 16}\n"
          ],
          "name": "stdout"
        }
      ]
    },
    {
      "cell_type": "markdown",
      "metadata": {
        "id": "MUdwjZmChZ6k"
      },
      "source": [
        "# **Questions 4:**"
      ]
    },
    {
      "cell_type": "code",
      "metadata": {
        "id": "HBtwx4xBfG1g",
        "outputId": "266beb02-2a8f-436f-b130-0ab01a1ec5f4",
        "colab": {
          "base_uri": "https://localhost:8080/"
        }
      },
      "source": [
        "pos = {\"x\":0,\"y\":0}\n",
        "n = int(input())\n",
        "for i in range (n):\n",
        "    move =  input().split(\" \") \n",
        "    if move[0].lower() == \"up\":\n",
        "        pos[\"y\"] += int(move[1])\n",
        "    elif move[0].lower() == \"down\":\n",
        "        pos[\"y\"] -= int(move[1])    \n",
        "    elif move[0].lower() == \"left\":\n",
        "        pos[\"x\"] -= int(move[1])    \n",
        "    elif move[0].lower() == \"right\":\n",
        "        pos[\"x\"] += int(move[1])\n",
        "print(int(round((pos[\"x\"]**2 + pos[\"y\"]**2)**0.5)))"
      ],
      "execution_count": 5,
      "outputs": [
        {
          "output_type": "stream",
          "text": [
            "4\n",
            "down 5\n",
            "down 4\n",
            "up 6\n",
            "up 5\n",
            "2\n"
          ],
          "name": "stdout"
        }
      ]
    },
    {
      "cell_type": "code",
      "metadata": {
        "id": "e-nCJTVLm-UY"
      },
      "source": [
        ""
      ],
      "execution_count": 5,
      "outputs": []
    }
  ]
}